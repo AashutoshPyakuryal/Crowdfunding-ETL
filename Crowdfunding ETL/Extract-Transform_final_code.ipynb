{
 "cells": [
  {
   "cell_type": "code",
   "execution_count": null,
   "id": "f7ea5dc6",
   "metadata": {},
   "outputs": [],
   "source": [
    "# Import dependencies.\n",
    "import pandas as pd\n",
    "import json"
   ]
  },
  {
   "cell_type": "code",
   "execution_count": null,
   "id": "ed57bd38",
   "metadata": {},
   "outputs": [],
   "source": [
    "# Get the backers_info from the crowdfunding_info sheet. \n",
    "backer_info = pd.read_csv(\"backer_info.csv\")\n",
    "pd.set_option('max_colwidth', 400)\n",
    "backers_info_df = pd.DataFrame(backer_info)\n",
    "backers_info_df.head()\n"
   ]
  },
  {
   "cell_type": "code",
   "execution_count": null,
   "id": "1513ed44",
   "metadata": {},
   "outputs": [],
   "source": [
    "# Iterate through the backers DataFrame and convert each row to a dictionary.\n",
    "dict_values = []\n",
    "for i, row in backers_info_df.iterrows():\n",
    "    \n",
    "    # Iterate through each dictionary (row) and get the values for each row using list comprehension.\n",
    "    data = row['backer_info']\n",
    "    converted_data = json.loads(data)\n",
    "    row_values = [v for k, v in converted_data.items()]\n",
    "    # Append the list of values for each row to a list. \n",
    "    dict_values.append(row_values)\n",
    "\n",
    "# Print out the list of values for each row.\n",
    "print(dict_values)"
   ]
  },
  {
   "cell_type": "code",
   "execution_count": null,
   "id": "a7fd459c",
   "metadata": {},
   "outputs": [],
   "source": [
    "# Create a backers_df DataFrame with the following columns: 'backer_id','cf_id', 'name', and 'email' using the list of values lists. \n",
    "backers_df = pd.DataFrame(dict_values, columns=['backer_id', 'cf_id', 'name', 'email'])\n",
    "backers_df.head()"
   ]
  },
  {
   "cell_type": "code",
   "execution_count": null,
   "id": "9c36437f",
   "metadata": {},
   "outputs": [],
   "source": [
    "# Export the DataFrame as a CSV file using encoding='utf8'.\n",
    "backers_df.to_csv(\"backers.csv\", encoding='utf8', index=False)\n"
   ]
  },
  {
   "cell_type": "code",
   "execution_count": null,
   "id": "a8fe4eaa",
   "metadata": {},
   "outputs": [],
   "source": [
    "# Check data types.\n",
    "backers_df.dtypes"
   ]
  },
  {
   "cell_type": "code",
   "execution_count": null,
   "id": "3a58cad8",
   "metadata": {},
   "outputs": [],
   "source": [
    "# Split the \"name\" column into \"first_name\" and \"last_name\" columns.\n",
    "backers_df[[\"first_name\",\"last_name\"]] = backers_df[\"name\"].str.split(' ', n=1, expand=True)\n",
    "backers_df.head(10)"
   ]
  },
  {
   "cell_type": "code",
   "execution_count": null,
   "id": "745cefda",
   "metadata": {},
   "outputs": [],
   "source": [
    "#  Drop the name column\n",
    "backers_df.drop(\"name\", axis=1)\n",
    "\n",
    "# Reorder the columns\n",
    "backers_df = backers_df[[\"backer_id\", \"cf_id\", \"first_name\", \"last_name\", \"email\"]]\n",
    "backers_df.head()"
   ]
  },
  {
   "cell_type": "code",
   "execution_count": null,
   "id": "03849dff",
   "metadata": {},
   "outputs": [],
   "source": [
    "# Export the DataFrame as a CSV file using encoding='utf8'.\n",
    "backers_df.to_csv(\"backers.csv\", encoding='utf8', index=False)"
   ]
  }
 ],
 "metadata": {
  "kernelspec": {
   "display_name": "PythonData",
   "language": "python",
   "name": "pythondata"
  },
  "language_info": {
   "codemirror_mode": {
    "name": "ipython",
    "version": 3
   },
   "file_extension": ".py",
   "mimetype": "text/x-python",
   "name": "python",
   "nbconvert_exporter": "python",
   "pygments_lexer": "ipython3",
   "version": "3.9.12"
  }
 },
 "nbformat": 4,
 "nbformat_minor": 5
}
