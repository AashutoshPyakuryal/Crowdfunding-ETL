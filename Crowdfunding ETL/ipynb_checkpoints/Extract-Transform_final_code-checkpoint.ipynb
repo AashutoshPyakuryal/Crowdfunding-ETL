{
 "cells": [
  {
   "cell_type": "code",
   "execution_count": null,
   "id": "ba222c22",
   "metadata": {},
   "outputs": [],
   "source": [
    "# Import dependencies.\n",
    "import pandas as pd\n",
    "import json"
   ]
  },
  {
   "cell_type": "code",
   "execution_count": null,
   "id": "a92d1200",
   "metadata": {},
   "outputs": [],
   "source": [
    "# Get the backers_info from the crowdfunding_info sheet. \n",
    "backer_info = pd.read_csv(\"backer_info.csv\")\n",
    "pd.set_option('max_colwidth', 400)\n",
    "backers_info_df = pd.DataFrame(backer_info)\n",
    "backers_info_df.head()"
   ]
  },
  {
   "cell_type": "code",
   "execution_count": null,
   "id": "9c9ed829",
   "metadata": {},
   "outputs": [],
   "source": [
    "# Iterate through the backers DataFrame and convert each row to a dictionary.\n",
    "dict_values = []\n",
    "for i, row in backers_info_df.iterrows():\n",
    "    \n",
    "    # Iterate through each dictionary (row) and get the values for each row using list comprehension.\n",
    "    data = row['backer_info']\n",
    "    converted_data = json.loads(data)\n",
    "    row_values = [v for k, v in converted_data.items()]\n",
    "    # Append the list of values for each row to a list. \n",
    "    dict_values.append(row_values)\n",
    "\n",
    "# Print out the list of values for each row.\n",
    "print(dict_values)"
   ]
  },
  {
   "cell_type": "code",
   "execution_count": null,
   "id": "4c7c359f",
   "metadata": {},
   "outputs": [],
   "source": [
    "# Create a backers_df DataFrame with the following columns: 'backer_id','cf_id', 'name', and 'email' using the list of values lists. \n",
    "backers_df = pd.DataFrame(dict_values, columns=['backer_id', 'cf_id', 'name', 'email'])\n",
    "backers_df.head()"
   ]
  },
  {
   "cell_type": "code",
   "execution_count": null,
   "id": "d83beef5",
   "metadata": {},
   "outputs": [],
   "source": [
    "# Export the DataFrame as a CSV file using encoding='utf8'.\n",
    "backers_df.to_csv(\"backers.csv\", encoding='utf8', index=False)"
   ]
  },
  {
   "cell_type": "code",
   "execution_count": null,
   "id": "052e6f22",
   "metadata": {},
   "outputs": [],
   "source": [
    "# Check data types.\n",
    "backers_df.dtypes"
   ]
  },
  {
   "cell_type": "code",
   "execution_count": null,
   "id": "5bef1a3f",
   "metadata": {},
   "outputs": [],
   "source": [
    "# Split the \"name\" column into \"first_name\" and \"last_name\" columns.\n",
    "backers_df[[\"first_name\",\"last_name\"]] = backers_df[\"name\"].str.split(' ', n=1, expand=True)\n",
    "backers_df.head(10)"
   ]
  },
  {
   "cell_type": "code",
   "execution_count": null,
   "id": "721cb989",
   "metadata": {},
   "outputs": [],
   "source": [
    "#  Drop the name column\n",
    "backers_df.drop(\"name\", axis=1)\n",
    "\n",
    "# Reorder the columns\n",
    "backers_df = backers_df[[\"backer_id\", \"cf_id\", \"first_name\", \"last_name\", \"email\"]]\n",
    "backers_df.head()"
   ]
  },
  {
   "cell_type": "code",
   "execution_count": null,
   "id": "0911f7ef",
   "metadata": {},
   "outputs": [],
   "source": [
    "# Export the DataFrame as a CSV file using encoding='utf8'.\n",
    "backers_df.to_csv(\"backers.csv\", encoding='utf8', index=False)"
   ]
  },
  {
   "cell_type": "code",
   "execution_count": null,
   "id": "a3b19d07",
   "metadata": {},
   "outputs": [],
   "source": [
    "# Export the DataFrame as a CSV file using encoding='utf8'.\n",
    "backers_df.to_csv(\"backers.csv\", encoding='utf8', index=False)"
   ]
  }
 ],
 "metadata": {
  "kernelspec": {
   "display_name": "PythonData",
   "language": "python",
   "name": "pythondata"
  },
  "language_info": {
   "codemirror_mode": {
    "name": "ipython",
    "version": 3
   },
   "file_extension": ".py",
   "mimetype": "text/x-python",
   "name": "python",
   "nbconvert_exporter": "python",
   "pygments_lexer": "ipython3",
   "version": "3.9.12"
  }
 },
 "nbformat": 4,
 "nbformat_minor": 5
}
