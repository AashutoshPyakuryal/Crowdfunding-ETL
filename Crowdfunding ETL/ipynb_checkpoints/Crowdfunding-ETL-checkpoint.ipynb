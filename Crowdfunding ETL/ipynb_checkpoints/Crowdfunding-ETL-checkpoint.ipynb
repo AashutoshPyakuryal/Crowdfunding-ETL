{
 "cells": [
  {
   "cell_type": "code",
   "execution_count": 1,
   "id": "0c695f30",
   "metadata": {},
   "outputs": [],
   "source": [
    "# Import dependencies.\n",
    "import pandas as pd"
   ]
  },
  {
   "cell_type": "code",
   "execution_count": null,
   "id": "2f1dbf78",
   "metadata": {},
   "outputs": [],
   "source": [
    "# Read data into a Pandas DataFrame.\n",
    "crowdfunding_data = pd.ExcelFile(\"crowdfunding.xlsx\")\n",
    "\n",
    "# Get sheet names.\n",
    "crowdfunding_data.sheet_names"
   ]
  },
  {
   "cell_type": "code",
   "execution_count": null,
   "id": "11d6fbea",
   "metadata": {},
   "outputs": [],
   "source": [
    "# Get crowdfunding_info from crowdfunding_info worksheet.\n",
    "crowdfunding_info_df = pd.read_excel(crowdfunding_data, sheet_name='crowdfunding_info')\n",
    "crowdfunding_info_df.head()"
   ]
  },
  {
   "cell_type": "code",
   "execution_count": null,
   "id": "d5f719be",
   "metadata": {},
   "outputs": [],
   "source": [
    "# Get the contact_info from the contact_info worksheet.\n",
    "# Increase the width of the column.\n",
    "pd.set_option('max_colwidth', 400)\n",
    "contact_info_df = pd.read_excel(crowdfunding_data, sheet_name='contact_info', header=3)\n",
    "contact_info_df.head()"
   ]
  },
  {
   "cell_type": "code",
   "execution_count": null,
   "id": "2e593060",
   "metadata": {},
   "outputs": [],
   "source": [
    "# Sample the contact_info DataFrame.\n",
    "contact_info_df.sample(n=5)"
   ]
  },
  {
   "cell_type": "code",
   "execution_count": null,
   "id": "170484be",
   "metadata": {},
   "outputs": [],
   "source": [
    "# Sample the crowdfunding_info DataFrame.\n",
    "crowdfunding_info_df.sample(n=5)"
   ]
  },
  {
   "cell_type": "code",
   "execution_count": null,
   "id": "167789cb",
   "metadata": {},
   "outputs": [],
   "source": [
    "# Summary of crowdfunding_info DataFrame.\n",
    "crowdfunding_info_df.info()"
   ]
  },
  {
   "cell_type": "code",
   "execution_count": null,
   "id": "24497dab",
   "metadata": {},
   "outputs": [],
   "source": [
    "# Get a brief summary of the contact_info DataFrame. \n",
    "contact_info_df.info()"
   ]
  },
  {
   "cell_type": "code",
   "execution_count": null,
   "id": "ebd523d7",
   "metadata": {},
   "outputs": [],
   "source": [
    "# Get the unique values in the category & sub-category column. \n",
    "crowdfunding_info_df[\"category & sub-category\"].unique()"
   ]
  },
  {
   "cell_type": "code",
   "execution_count": null,
   "id": "1abafa54",
   "metadata": {},
   "outputs": [],
   "source": [
    "# Assign the category and subcategory values to category and subcategory columns.\n",
    "crowdfunding_info_df[[\"category\",\"subcategory\"]] = crowdfunding_info_df[\"category & sub-category\"].str.split('/', n=1, expand=True)\n",
    "crowdfunding_info_df.head(10)"
   ]
  },
  {
   "cell_type": "code",
   "execution_count": null,
   "id": "a5aacc25",
   "metadata": {},
   "outputs": [],
   "source": [
    "# Get the distinct values in the category and subcategory columns.\n",
    "print(crowdfunding_info_df[\"category\"].nunique())\n",
    "print(crowdfunding_info_df[\"subcategory\"].nunique())\n"
   ]
  },
  {
   "cell_type": "code",
   "execution_count": null,
   "id": "844bf0a5",
   "metadata": {},
   "outputs": [],
   "source": [
    "# Get the unique categories and subcategories in separate lists.\n",
    "categories = crowdfunding_info_df[\"category\"].unique()\n",
    "subcategories = crowdfunding_info_df[\"subcategory\"].unique()\n",
    "print(categories)\n",
    "print()\n",
    "print(subcategories)"
   ]
  },
  {
   "cell_type": "code",
   "execution_count": null,
   "id": "f709cf91",
   "metadata": {},
   "outputs": [],
   "source": [
    "# Import the Numpy dependency\n",
    "import numpy as np\n",
    "\n",
    "# Create numpy arrays that have 1-10 for the category_ids and 1-25 for the subcategory_ids.\n",
    "category_ids = np.arange(1, 10)\n",
    "subcategory_ids = np.arange(1, 25)"
   ]
  },
  {
   "cell_type": "code",
   "execution_count": null,
   "id": "bbe06a31",
   "metadata": {},
   "outputs": [],
   "source": [
    "print(category_ids)\n",
    "print(subcategory_ids)"
   ]
  },
  {
   "cell_type": "code",
   "execution_count": null,
   "id": "29b1578a",
   "metadata": {},
   "outputs": [],
   "source": [
    "# Use a list comprehension to add \"cat0\" to each category_id. \n",
    "cat_ids = [\"cat0\" + str(cat_id) for cat_id in category_ids]\n",
    "\n",
    "# Use a list comprehension to add \"scat0\" to each subcategory_id. \n",
    "scat_ids = [\"scat0\" + str(scat_id) for scat_id in subcategory_ids ]\n",
    "\n",
    "print(cat_ids)\n",
    "print(scat_ids)"
   ]
  },
  {
   "cell_type": "code",
   "execution_count": null,
   "id": "ae4b1a80",
   "metadata": {},
   "outputs": [],
   "source": [
    "crowdfunding_info_df.columns"
   ]
  },
  {
   "cell_type": "code",
   "execution_count": null,
   "id": "2816882b",
   "metadata": {},
   "outputs": [],
   "source": [
    "# Create a category DataFrame with the cat_ids array as the category_id and categories list as the category name.\n",
    "category_df = pd.DataFrame({\n",
    "    \"category_id\": cat_ids,\n",
    "    \"category\" : categories\n",
    "})\n",
    "\n",
    "# Create a subcategory DataFrame with the scat_ids array as the subcategory_id and subcategories list as the subcategory name.\n",
    "subcategory_df = pd.DataFrame({\n",
    "    \"subcategory_id\": scat_ids,\n",
    "    \"subcategory\" : subcategories\n",
    "})"
   ]
  },
  {
   "cell_type": "code",
   "execution_count": null,
   "id": "2e7e43ca",
   "metadata": {},
   "outputs": [],
   "source": [
    "category_df.head(10)"
   ]
  },
  {
   "cell_type": "code",
   "execution_count": null,
   "id": "769cf5e7",
   "metadata": {},
   "outputs": [],
   "source": [
    "subcategory_df.head(10)"
   ]
  },
  {
   "cell_type": "code",
   "execution_count": null,
   "id": "2df98fa3",
   "metadata": {},
   "outputs": [],
   "source": [
    "# Export category_df as a CSV file without data index. \n",
    "category_df.to_csv(\"category.csv\", index=False)"
   ]
  },
  {
   "cell_type": "code",
   "execution_count": null,
   "id": "9f272c84",
   "metadata": {},
   "outputs": [],
   "source": [
    "# Export subcategory_df as a CSV file without data index.\n",
    "subcategory_df.to_csv(\"subcategory.csv\", index=False)"
   ]
  },
  {
   "cell_type": "code",
   "execution_count": null,
   "id": "92108479",
   "metadata": {},
   "outputs": [],
   "source": [
    "# Create a copy of the crowdfunding_info_df DataFrame name campaign_df.\n",
    "campaign_df = crowdfunding_info_df.copy()\n",
    "campaign_df.head()"
   ]
  },
  {
   "cell_type": "code",
   "execution_count": null,
   "id": "5a8dff88",
   "metadata": {},
   "outputs": [],
   "source": [
    "# Rename the columns.\n",
    "campaign_df = campaign_df.rename(columns={'blurb':'description', 'launched_at':'launched_date', 'deadline':'end_date'})\n",
    "campaign_df.head()"
   ]
  },
  {
   "cell_type": "code",
   "execution_count": null,
   "id": "0263b8bf",
   "metadata": {},
   "outputs": [],
   "source": [
    "# Convert the goal and pledged columns to a `float` data type.\n",
    "campaign_df[[\"goal\",\"pledged\"]] = campaign_df[[\"goal\",\"pledged\"]].astype(float)\n",
    "campaign_df.head()"
   ]
  },
  {
   "cell_type": "code",
   "execution_count": null,
   "id": "f7f74045",
   "metadata": {},
   "outputs": [],
   "source": [
    "# Format the launched_date and end_date columns to datetime format.\n",
    "from datetime import datetime as dt\n",
    "campaign_df[\"launched_date\"] = pd.to_datetime(campaign_df[\"launched_date\"], unit='s').dt.strftime('%Y-%m-%d') \n",
    "campaign_df[\"end_date\"] = pd.to_datetime(campaign_df[\"end_date\"], unit='s').dt.strftime('%Y-%m-%d')\n",
    "campaign_df.head()"
   ]
  },
  {
   "cell_type": "code",
   "execution_count": null,
   "id": "2e094f92",
   "metadata": {},
   "outputs": [],
   "source": [
    "# Merge the category_df with campaign_df on the \"category\" column and the subcategory_df on the \"subcategory\" column.\n",
    "campaign_merged_df = campaign_df.merge(category_df, on='category', how='left').merge(subcategory_df, on='subcategory', how='left')\n",
    "campaign_merged_df.tail(10)"
   ]
  },
  {
   "cell_type": "code",
   "execution_count": null,
   "id": "18abfd34",
   "metadata": {},
   "outputs": [],
   "source": [
    "# Drop unwanted columns.\n",
    "campaign_cleaned = campaign_merged_df.drop(['staff_pick', 'spotlight', 'category & sub-category','category', 'subcategory'], axis=1)\n",
    "campaign_cleaned.head()"
   ]
  },
  {
   "cell_type": "code",
   "execution_count": null,
   "id": "07b7571d",
   "metadata": {},
   "outputs": [],
   "source": [
    "# Show the contact_info_df DataFrame.\n",
    "contact_info_df.head()"
   ]
  },
  {
   "cell_type": "code",
   "execution_count": null,
   "id": "c56ad199",
   "metadata": {},
   "outputs": [],
   "source": [
    "# Retrieve the data from the \"contact_info\" column.\n",
    "contact_info_list = contact_info_df.contact_info.to_list()\n",
    "contact_info_list"
   ]
  },
  {
   "cell_type": "code",
   "execution_count": null,
   "id": "a298c83a",
   "metadata": {},
   "outputs": [],
   "source": [
    "# Pop out the unique identification number using list slicing. \n",
    "print(contact_info_list[0][:15])\n",
    "print(contact_info_list[0][15:19])"
   ]
  },
  {
   "cell_type": "code",
   "execution_count": null,
   "id": "abc859d9",
   "metadata": {},
   "outputs": [],
   "source": [
    "# Pop out the unique identification number using list comprehension and slicing. \n",
    "print([x[15:19] for x in contact_info_list])"
   ]
  },
  {
   "cell_type": "code",
   "execution_count": null,
   "id": "ce322dec",
   "metadata": {},
   "outputs": [],
   "source": [
    "# Extract the four-digit contact ID number and add it to a new column in the `campaign_cleaned` DataFrame.\n",
    "campaign_cleaned[\"contact_id\"] = [x[15:19] for x in contact_info_df[\"contact_info\"].values]\n",
    "campaign_cleaned.head()\n"
   ]
  },
  {
   "cell_type": "code",
   "execution_count": null,
   "id": "2d32ebaa",
   "metadata": {},
   "outputs": [],
   "source": [
    "# Convert the \"contact_id\" column to an int64 data type.\n",
    "campaign_cleaned['contact_id'] = pd.to_numeric(campaign_cleaned['contact_id'])\n",
    "campaign_cleaned.info()"
   ]
  },
  {
   "cell_type": "code",
   "execution_count": null,
   "id": "b4226dc6",
   "metadata": {},
   "outputs": [],
   "source": [
    "# Reorganize the columns.\n",
    "campaign_cleaned = campaign_cleaned[[\"cf_id\", \"contact_id\", \"company_name\", \"description\", \"goal\", \"pledged\", \"outcome\", \"backers_count\", \"country\", \"currency\", \"launched_date\", \"end_date\", \"category_id\",\"subcategory_id\"]]\n",
    "campaign_cleaned.head()"
   ]
  },
  {
   "cell_type": "code",
   "execution_count": null,
   "id": "06eed52c",
   "metadata": {},
   "outputs": [],
   "source": [
    "# Export the cleaned_campaign DataFrame as a CSV file.\n",
    "campaign_cleaned.to_csv(\"campaign.csv\", encoding='utf8', index=False)"
   ]
  },
  {
   "cell_type": "code",
   "execution_count": null,
   "id": "ac24bf80",
   "metadata": {},
   "outputs": [],
   "source": [
    "# Extract the four-digit contact ID number and add it to a new column in the contact_info DataFrame.\n",
    "contact_info_df[\"contact_id\"] = [x[15:19] for x in contact_info_df[\"contact_info\"].values]\n",
    "contact_info_df.head()"
   ]
  },
  {
   "cell_type": "code",
   "execution_count": null,
   "id": "b3d4404f",
   "metadata": {},
   "outputs": [],
   "source": [
    "# Get the data from the first row and convert it to a dictionary.\n",
    "import json\n",
    "first_row = contact_info_df.iloc[0]['contact_info']\n",
    "converted_data = json.loads(first_row)\n",
    "for k, v in converted_data.items():\n",
    "    print(k,v)"
   ]
  },
  {
   "cell_type": "code",
   "execution_count": null,
   "id": "0bd8bc2b",
   "metadata": {},
   "outputs": [],
   "source": [
    "# Iterate through the contact_info_df and convert each row to a dictionary.\n",
    "dict_values = []\n",
    "for i, row in contact_info_df.iterrows():\n",
    "    \n",
    "    # Get the data first item in each row.\n",
    "    data = row['contact_info']\n",
    "    converted_data = json.loads(data)\n",
    "    # Iterate through each dictionary (row) and get the values for each row using list comprehension.\n",
    "    row_values = [v for k, v in converted_data.items()]\n",
    "    # Append the list of values for each row to a new list. \n",
    "    dict_values.append(row_values)\n",
    "\n",
    "# Print out the list of values for each row.\n",
    "print(dict_values)"
   ]
  },
  {
   "cell_type": "code",
   "execution_count": null,
   "id": "ddb8a1c8",
   "metadata": {},
   "outputs": [],
   "source": [
    "# Create a contact_info DataFrame and add each list of values, i.e., each row to the 'contact_id', 'name', 'email' columns.\n",
    "contacts_df = pd.DataFrame(dict_values, columns=['contact_id', 'name', 'email'])\n",
    "contacts_df.head()\n"
   ]
  },
  {
   "cell_type": "code",
   "execution_count": null,
   "id": "a3b81b4b",
   "metadata": {},
   "outputs": [],
   "source": [
    "# Inspect the data.\n",
    "contacts_df.info()"
   ]
  },
  {
   "cell_type": "code",
   "execution_count": null,
   "id": "b92a6025",
   "metadata": {},
   "outputs": [],
   "source": [
    "# Assign the category and subcategory values to category and subcategory columns.\n",
    "contacts_df[[\"first_name\",\"last_name\"]] = contacts_df[\"name\"].str.split(' ', n=1, expand=True)\n",
    "\n",
    "# Drop the name column. \n",
    "contacts_df_clean = contacts_df.drop(['name'], axis=1)\n",
    "contacts_df_clean.head(10)"
   ]
  },
  {
   "cell_type": "code",
   "execution_count": null,
   "id": "cfda0994",
   "metadata": {},
   "outputs": [],
   "source": [
    "# Rearrange the columns.\n",
    "contacts_df = contacts_df[[\"contact_id\", \"first_name\", \"last_name\", \"email\"]]\n",
    "contacts_df.head()\n"
   ]
  },
  {
   "cell_type": "code",
   "execution_count": null,
   "id": "99930125",
   "metadata": {},
   "outputs": [],
   "source": [
    "# Export the cleaned_campaign DataFrame as a CSV file.\n",
    "contacts_df.to_csv(\"contacts.csv\", encoding='utf8', index=False)"
   ]
  }
 ],
 "metadata": {
  "kernelspec": {
   "display_name": "PythonData",
   "language": "python",
   "name": "pythondata"
  },
  "language_info": {
   "codemirror_mode": {
    "name": "ipython",
    "version": 3
   },
   "file_extension": ".py",
   "mimetype": "text/x-python",
   "name": "python",
   "nbconvert_exporter": "python",
   "pygments_lexer": "ipython3",
   "version": "3.9.12"
  }
 },
 "nbformat": 4,
 "nbformat_minor": 5
}
